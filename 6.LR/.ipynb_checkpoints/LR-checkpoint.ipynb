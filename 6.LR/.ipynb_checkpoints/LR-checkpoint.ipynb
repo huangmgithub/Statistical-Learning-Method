{
 "cells": [
  {
   "cell_type": "code",
   "execution_count": 82,
   "metadata": {},
   "outputs": [],
   "source": [
    "import numpy as np\n",
    "import pandas as pd\n",
    "import matplotlib.pyplot as plt\n",
    "from sklearn.datasets import load_iris\n",
    "from sklearn.model_selection import train_test_split"
   ]
  },
  {
   "cell_type": "code",
   "execution_count": 83,
   "metadata": {},
   "outputs": [
    {
     "data": {
      "text/plain": [
       "2    50\n",
       "1    50\n",
       "0    50\n",
       "Name: label, dtype: int64"
      ]
     },
     "execution_count": 83,
     "metadata": {},
     "output_type": "execute_result"
    }
   ],
   "source": [
    "# Datda\n",
    "iris= load_iris()\n",
    "df = pd.DataFrame(iris.data, columns=iris.feature_names)\n",
    "df['label'] = iris.target\n",
    "df['label'].value_counts() # 三类"
   ]
  },
  {
   "cell_type": "code",
   "execution_count": 95,
   "metadata": {},
   "outputs": [
    {
     "data": {
      "text/plain": [
       "((100, 2), 100)"
      ]
     },
     "execution_count": 95,
     "metadata": {},
     "output_type": "execute_result"
    }
   ],
   "source": [
    "data = np.array(df.iloc[:100]) # 前100正好是两类\n",
    "X = data[:, :2]\n",
    "y = data[:, -1]\n",
    "X.shape, len(y)"
   ]
  },
  {
   "cell_type": "code",
   "execution_count": 96,
   "metadata": {},
   "outputs": [],
   "source": [
    "X_train, X_test, y_train, y_test = train_test_split(X, y, test_size=0.3, random_state=20)"
   ]
  },
  {
   "cell_type": "code",
   "execution_count": 149,
   "metadata": {},
   "outputs": [],
   "source": [
    "class LogisticRegressionClassifier:\n",
    "    def __init__(self, max_iter=200, learning_rate=0.01):\n",
    "        self.max_iter = max_iter\n",
    "        self.learning_rate = learning_rate\n",
    "    \n",
    "    def sigmoid(self, z):\n",
    "        return 1 / (1 + np.exp(-1 * z))\n",
    "    \n",
    "    def fit(self, X, y):\n",
    "        n_featrues = X.shape[1]\n",
    "        self.weights = np.zeros(n_featrues)\n",
    "        self.biases = 0\n",
    "        \n",
    "        for i in range(self.max_iter):\n",
    "            y_hat = self.sigmoid(X @ self.weights + self.biases)\n",
    "            loss = np.sum((y_hat - y) ** 2) / (2 * X.shape[0])\n",
    "            error = np.array(y_hat - y)\n",
    "            x_gradient = np.dot(error, X)\n",
    "            b_gradient = np.sum(error)\n",
    "            self.weights -= self.learning_rate * x_gradient\n",
    "            self.biases -= self.learning_rate * b_gradient\n",
    "            print('loss:{}, weight:{}, bias:{}'.format(loss, self.weights, self.biases))\n",
    "    \n",
    "    def score(self, X, y):\n",
    "        right = 0\n",
    "        y_hat = self.sigmoid(X @ self.weights + self.biases)\n",
    "        error = np.array(y_hat - y)\n",
    "        right = np.sum(np.abs(error) <= 0.5)\n",
    "        \n",
    "        return right / X.shape[0]"
   ]
  },
  {
   "cell_type": "code",
   "execution_count": 150,
   "metadata": {},
   "outputs": [
    {
     "name": "stdout",
     "output_type": "stream",
     "text": [
      "loss:0.125, weight:[ 0.21 -0.09], bias:0.01\n",
      "loss:0.13072580295360314, weight:[-0.37440809 -0.61627808], bias:-0.12362896825955723\n",
      "loss:0.24768459040376237, weight:[1.67316449 0.33146454], bias:0.22372631463122822\n",
      "loss:0.24281898262856774, weight:[-0.0216591  -0.83342642], bias:-0.11623793151168715\n",
      "loss:0.22011496045426587, weight:[1.85703235 0.02676537], bias:0.2005955695002481\n",
      "loss:0.242813581277163, weight:[ 0.16221788 -1.13811666], bias:-0.13936651884114015\n",
      "loss:0.2115597958336427, weight:[ 2.01083508 -0.2887752 ], bias:0.17266026868529355\n",
      "loss:0.24279697389918736, weight:[ 0.31607646 -1.45361806], bias:-0.16729014805440084\n",
      "loss:0.21018641593071646, weight:[ 2.1756461  -0.59454557], bias:0.1472260139333345\n",
      "loss:0.24278037455967214, weight:[ 0.48094016 -1.75935035], bias:-0.192713328210664\n",
      "loss:0.20488797375437326, weight:[ 2.32418055 -0.90466521], bias:0.11939755455913309\n",
      "loss:0.24274876118720676, weight:[ 0.62958209 -2.06939425], bias:-0.22051942401279845\n",
      "loss:0.20390858883616772, weight:[ 2.47728688 -1.20953728], bias:0.09276285245326682\n",
      "loss:0.24270920982096586, weight:[ 0.78282155 -2.37417158], bias:-0.24712644379261245\n",
      "loss:0.20102390068225273, weight:[ 2.62149152 -1.51601701], bias:0.0649162465754049\n",
      "loss:0.2426436904822959, weight:[ 0.92724973 -2.68049249], bias:-0.27492673862161554\n",
      "loss:0.2005127062241874, weight:[ 2.76723436 -1.81961263], bias:0.03760752056050193\n",
      "loss:0.24255264071605406, weight:[ 1.0733028 -2.9838663], bias:-0.3021713214475563\n",
      "loss:0.19917442738228816, weight:[ 2.90824161 -2.12350703], bias:0.009714853008850222\n",
      "loss:0.24240935010819084, weight:[ 1.21480026 -3.28740903], bias:-0.3299629171378832\n",
      "loss:0.19897788942723904, weight:[ 3.04926627 -2.42575222], bias:-0.017981238421463652\n",
      "loss:0.24219864289637064, weight:[ 1.35654702 -3.58913348], bias:-0.3575105355490292\n",
      "loss:0.1984742786375378, weight:[ 3.18774681 -2.72764075], bias:-0.04594034052912804\n",
      "loss:0.24187225803397464, weight:[ 1.49615001 -3.890209  ], bias:-0.38523955719746256\n",
      "loss:0.19840243305743574, weight:[ 3.32551242 -3.02840398], bias:-0.07386259119178701\n",
      "loss:0.2413771056174785, weight:[ 1.63562539 -4.18972795], bias:-0.41281248654895547\n",
      "loss:0.19817426094265245, weight:[ 3.46164517 -3.32840725], bias:-0.10190348661618354\n",
      "loss:0.24061103600394254, weight:[ 1.77441849 -4.48778667], bias:-0.44031174798516415\n",
      "loss:0.19794729955838994, weight:[ 3.59660181 -3.62727119], bias:-0.12996968399359698\n",
      "loss:0.239431647448303, weight:[ 1.91350304 -4.7836207 ], bias:-0.46754064829144515\n",
      "loss:0.19743326217599927, weight:[ 3.72990502 -3.92485036], bias:-0.1581063470796253\n",
      "loss:0.23760928559307964, weight:[ 2.05325645 -5.07644748], bias:-0.49437405003193824\n",
      "loss:0.19649324214099015, weight:[ 3.86123925 -4.22065112], bias:-0.18630219051885544\n",
      "loss:0.23481254340289962, weight:[ 2.19465352 -5.36481002], bias:-0.5205448526460417\n",
      "loss:0.19478975062808632, weight:[ 3.98973498 -4.51401782], bias:-0.21459822412583246\n",
      "loss:0.23056745535947734, weight:[ 2.33880104 -5.64657909], bias:-0.545703842135743\n",
      "loss:0.19187119974180922, weight:[ 4.11393792 -4.80395012], bias:-0.24307325842989513\n",
      "loss:0.22425051737315377, weight:[ 2.48715354 -5.91859502], bias:-0.5693574425142771\n",
      "loss:0.1870254722682357, weight:[ 4.23113707 -5.08915126], bias:-0.271929443480288\n",
      "loss:0.21507454904882128, weight:[ 2.6413088  -6.17639442], bias:-0.5908602612038958\n",
      "loss:0.17916531202367927, weight:[ 4.33628468 -5.3681763 ], bias:-0.3016279715208819\n",
      "loss:0.20197169996915224, weight:[ 2.80308888 -6.41356948], bias:-0.6093151542634342\n",
      "loss:0.16652675400401293, weight:[ 4.41955416 -5.63998101], bias:-0.33320489144419213\n",
      "loss:0.18295504824493689, weight:[ 2.97595279 -6.61968522], bias:-0.6231026183930164\n",
      "loss:0.14586383911076956, weight:[ 4.45989994 -5.9055233 ], bias:-0.36910821792486104\n",
      "loss:0.1526454828971891, weight:[ 3.17260789 -6.77238102], bias:-0.6278596400768222\n",
      "loss:0.11017372424471618, weight:[ 4.40336277 -6.1737899 ], bias:-0.4161513933899813\n",
      "loss:0.09503267460148954, weight:[ 3.4516031  -6.80489462], bias:-0.6077767088613475\n",
      "loss:0.0495343836100595, weight:[ 4.12470698 -6.46832162], bias:-0.49076957525771936\n",
      "loss:0.019007514855049965, weight:[ 3.83816195 -6.65161528], bias:-0.5498118072063721\n",
      "loss:0.010321581617145541, weight:[ 3.89870851 -6.62499042], bias:-0.5419708585726183\n",
      "loss:0.009347771169394921, weight:[ 3.89571062 -6.6340337 ], bias:-0.5459849169991979\n",
      "loss:0.009395904517344397, weight:[ 3.89985411 -6.6389808 ], bias:-0.5486538803112209\n",
      "loss:0.00938540271235839, weight:[ 3.90332482 -6.644289  ], bias:-0.5514457616538969\n",
      "loss:0.009381000603143277, weight:[ 3.90684723 -6.6495459 ], bias:-0.5542245733884333\n",
      "loss:0.009376067885095771, weight:[ 3.91035448 -6.65478969], bias:-0.5570028884489956\n",
      "loss:0.009371211721606477, weight:[ 3.91385268 -6.66001701], bias:-0.5597795753342589\n",
      "loss:0.009366376754444175, weight:[ 3.91734134 -6.66522825], bias:-0.5625547428649688\n",
      "loss:0.009361567658846152, weight:[ 3.92082057 -6.6704235 ], bias:-0.5653283895112706\n",
      "loss:0.009356783773817734, weight:[ 3.92429042 -6.67560282], bias:-0.5681005233126222\n",
      "loss:0.009352024907500218, weight:[ 3.92775092 -6.68076631], bias:-0.5708711514229012\n",
      "loss:0.009347290830793524, weight:[ 3.93120215 -6.68591406], bias:-0.5736402810060853\n",
      "loss:0.009342581320672201, weight:[ 3.93464414 -6.69104615], bias:-0.5764079191617133\n",
      "loss:0.00933789615650099, weight:[ 3.93807695 -6.69616267], bias:-0.5791740729317367\n",
      "loss:0.009333235120295706, weight:[ 3.94150062 -6.70126371], bias:-0.5819387493006623\n",
      "loss:0.00932859799666, weight:[ 3.94491521 -6.70634934], bias:-0.5847019551962245\n",
      "loss:0.009323984572749036, weight:[ 3.94832076 -6.71141965], bias:-0.5874636974900087\n",
      "loss:0.00931939463823174, weight:[ 3.95171733 -6.71647473], bias:-0.5902239829980674\n",
      "loss:0.009314827985253942, weight:[ 3.95510496 -6.72151465], bias:-0.592982818481528\n",
      "loss:0.009310284408402099, weight:[ 3.9584837 -6.7265395], bias:-0.5957402106471928\n",
      "loss:0.009305763704667612, weight:[ 3.96185359 -6.73154936], bias:-0.5984961661481303\n",
      "loss:0.009301265673411878, weight:[ 3.96521469 -6.7365443 ], bias:-0.6012506915842584\n",
      "loss:0.009296790116331867, weight:[ 3.96856704 -6.74152441], bias:-0.6040037935029199\n",
      "loss:0.009292336837426274, weight:[ 3.97191069 -6.74648977], bias:-0.6067554783994499\n",
      "loss:0.009287905642962347, weight:[ 3.97524568 -6.75144045], bias:-0.6095057527177358\n",
      "loss:0.009283496341443213, weight:[ 3.97857205 -6.75637653], bias:-0.612254622850769\n",
      "loss:0.009279108743575773, weight:[ 3.98188986 -6.7612981 ], bias:-0.6150020951411906\n",
      "loss:0.009274742662239195, weight:[ 3.98519915 -6.76620521], bias:-0.617748175881828\n",
      "loss:0.009270397912453876, weight:[ 3.98849996 -6.77109796], bias:-0.6204928713162253\n",
      "loss:0.009266074311350982, weight:[ 3.99179234 -6.77597641], bias:-0.6232361876391671\n",
      "loss:0.00926177167814251, weight:[ 3.99507632 -6.78084065], bias:-0.6259781309971937\n",
      "loss:0.0092574898340918, weight:[ 3.99835197 -6.78569073], bias:-0.628718707489111\n",
      "loss:0.0092532286024846, weight:[ 4.0016193  -6.79052675], bias:-0.6314579231664929\n",
      "loss:0.009248987808600631, weight:[ 4.00487838 -6.79534876], bias:-0.6341957840341769\n",
      "loss:0.009244767279685548, weight:[ 4.00812924 -6.80015684], bias:-0.6369322960507539\n",
      "loss:0.009240566844923477, weight:[ 4.01137192 -6.80495107], bias:-0.6396674651290506\n",
      "loss:0.009236386335409888, weight:[ 4.01460647 -6.80973152], bias:-0.6424012971366064\n",
      "loss:0.009232225584125085, weight:[ 4.01783292 -6.81449825], bias:-0.6451337978961434\n",
      "loss:0.009228084425907937, weight:[ 4.02105132 -6.81925133], bias:-0.6478649731860308\n",
      "loss:0.009223962697430239, weight:[ 4.02426172 -6.82399084], bias:-0.6505948287407425\n",
      "loss:0.009219860237171333, weight:[ 4.02746414 -6.82871684], bias:-0.65332337025131\n",
      "loss:0.009215776885393268, weight:[ 4.03065863 -6.83342941], bias:-0.6560506033657684\n",
      "loss:0.009211712484116296, weight:[ 4.03384523 -6.8381286 ], bias:-0.6587765336895963\n",
      "loss:0.00920766687709482, weight:[ 4.03702397 -6.84281449], bias:-0.6615011667861517\n",
      "loss:0.009203639909793653, weight:[ 4.04019491 -6.84748715], bias:-0.6642245081771002\n",
      "loss:0.009199631429364797, weight:[ 4.04335807 -6.85214663], bias:-0.6669465633428397\n",
      "loss:0.009195641284624478, weight:[ 4.0465135  -6.85679301], bias:-0.669667337722918\n",
      "loss:0.00919166932603057, weight:[ 4.04966123 -6.86142635], bias:-0.672386836716446\n",
      "loss:0.00918771540566049, weight:[ 4.0528013  -6.86604671], bias:-0.6751050656825057\n",
      "loss:0.009183779377189321, weight:[ 4.05593376 -6.87065417], bias:-0.6778220299405524\n",
      "loss:0.009179861095868333, weight:[ 4.05905863 -6.87524878], bias:-0.6805377347708123\n",
      "loss:0.009175960418503864, weight:[ 4.06217595 -6.87983061], bias:-0.6832521854146749\n",
      "loss:0.009172077203436562, weight:[ 4.06528577 -6.88439971], bias:-0.6859653870750807\n",
      "loss:0.009168211310520855, weight:[ 4.06838811 -6.88895616], bias:-0.6886773449169038\n",
      "loss:0.009164362601104918, weight:[ 4.07148302 -6.89350001], bias:-0.6913880640673291\n",
      "loss:0.009160530938010733, weight:[ 4.07457052 -6.89803133], bias:-0.6940975496162265\n",
      "loss:0.009156716185514722, weight:[ 4.07765067 -6.90255018], bias:-0.6968058066165184\n",
      "loss:0.009152918209328426, weight:[ 4.08072348 -6.90705661], bias:-0.6995128400845444\n",
      "loss:0.009149136876579738, weight:[ 4.08378901 -6.91155069], bias:-0.70221865500042\n",
      "loss:0.009145372055794219, weight:[ 4.08684727 -6.91603247], bias:-0.704923256308392\n",
      "loss:0.00914162361687686, weight:[ 4.08989831 -6.92050202], bias:-0.7076266489171888\n",
      "loss:0.009137891431093993, weight:[ 4.09294216 -6.9249594 ], bias:-0.7103288377003668\n",
      "loss:0.009134175371055651, weight:[ 4.09597886 -6.92940466], bias:-0.7130298274966521\n",
      "loss:0.009130475310698027, weight:[ 4.09900844 -6.93383786], bias:-0.7157296231102788\n",
      "loss:0.009126791125266358, weight:[ 4.10203093 -6.93825906], bias:-0.7184282293113221\n",
      "loss:0.009123122691297931, weight:[ 4.10504637 -6.94266832], bias:-0.7211256508360286\n",
      "loss:0.009119469886605464, weight:[ 4.10805479 -6.94706569], bias:-0.7238218923871411\n",
      "loss:0.009115832590260739, weight:[ 4.11105622 -6.95145123], bias:-0.7265169586342209\n",
      "loss:0.009112210682578366, weight:[ 4.1140507  -6.95582499], bias:-0.7292108542139655\n",
      "loss:0.009108604045099953, weight:[ 4.11703826 -6.96018703], bias:-0.731903583730522\n",
      "loss:0.009105012560578395, weight:[ 4.12001892 -6.96453741], bias:-0.7345951517557979\n",
      "loss:0.009101436112962498, weight:[ 4.12299274 -6.96887618], bias:-0.7372855628297675\n",
      "loss:0.009097874587381758, weight:[ 4.12595972 -6.97320339], bias:-0.739974821460774\n",
      "loss:0.009094327870131383, weight:[ 4.12891992 -6.9775191 ], bias:-0.7426629321258295\n",
      "loss:0.00909079584865765, weight:[ 4.13187335 -6.98182336], bias:-0.74534989927091\n",
      "loss:0.009087278411543323, weight:[ 4.13482005 -6.98611623], bias:-0.7480357273112478\n",
      "loss:0.009083775448493335, weight:[ 4.13776005 -6.99039775], bias:-0.7507204206316199\n",
      "loss:0.00908028685032081, weight:[ 4.14069339 -6.99466799], bias:-0.7534039835866335\n",
      "loss:0.009076812508933123, weight:[ 4.14362008 -6.99892698], bias:-0.7560864205010075\n",
      "loss:0.009073352317318276, weight:[ 4.14654017 -7.00317479], bias:-0.7587677356698511\n",
      "loss:0.009069906169531433, weight:[ 4.14945368 -7.00741147], bias:-0.7614479333589392\n",
      "loss:0.009066473960681666, weight:[ 4.15236065 -7.01163706], bias:-0.7641270178049845\n",
      "loss:0.009063055586918889, weight:[ 4.15526109 -7.01585162], bias:-0.7668049932159059\n",
      "loss:0.009059650945421039, weight:[ 4.15815505 -7.02005519], bias:-0.7694818637710947\n",
      "loss:0.009056259934381349, weight:[ 4.16104255 -7.02424784], bias:-0.772157633621677\n",
      "loss:0.009052882452995882, weight:[ 4.16392362 -7.0284296 ], bias:-0.7748323068907733\n",
      "loss:0.00904951840145123, weight:[ 4.16679828 -7.03260052], bias:-0.7775058876737548\n",
      "loss:0.00904616768091238, weight:[ 4.16966658 -7.03676066], bias:-0.7801783800384979\n",
      "loss:0.009042830193510792, weight:[ 4.17252853 -7.04091006], bias:-0.7828497880256338\n",
      "loss:0.009039505842332617, weight:[ 4.17538417 -7.04504878], bias:-0.7855201156487969\n",
      "loss:0.009036194531407086, weight:[ 4.17823352 -7.04917685], bias:-0.7881893668948695\n",
      "loss:0.009032896165695053, weight:[ 4.18107661 -7.05329433], bias:-0.7908575457242245\n",
      "loss:0.009029610651077814, weight:[ 4.18391347 -7.05740127], bias:-0.7935246560709642\n",
      "loss:0.009026337894345917, weight:[ 4.18674413 -7.0614977 ], bias:-0.7961907018431572\n",
      "loss:0.009023077803188262, weight:[ 4.18956861 -7.06558369], bias:-0.7988556869230724\n",
      "loss:0.00901983028618128, weight:[ 4.19238694 -7.06965926], bias:-0.8015196151674104\n",
      "loss:0.009016595252778386, weight:[ 4.19519915 -7.07372448], bias:-0.8041824904075321\n",
      "loss:0.009013372613299396, weight:[ 4.19800526 -7.07777938], bias:-0.8068443164496849\n",
      "loss:0.009010162278920214, weight:[ 4.20080531 -7.08182402], bias:-0.8095050970752264\n",
      "loss:0.009006964161662743, weight:[ 4.20359931 -7.08585843], bias:-0.8121648360408453\n",
      "loss:0.009003778174384752, weight:[ 4.2063873  -7.08988266], bias:-0.8148235370787803\n",
      "loss:0.009000604230770013, weight:[ 4.20916929 -7.09389676], bias:-0.8174812038970358\n",
      "loss:0.00899744224531852, weight:[ 4.21194533 -7.09790076], bias:-0.8201378401795962\n",
      "loss:0.008994292133336954, weight:[ 4.21471542 -7.10189473], bias:-0.8227934495866369\n",
      "loss:0.008991153810929067, weight:[ 4.21747961 -7.10587868], bias:-0.8254480357547336\n",
      "loss:0.00898802719498648, weight:[ 4.2202379  -7.10985268], bias:-0.8281016022970686\n",
      "loss:0.00898491220317934, weight:[ 4.22299034 -7.11381676], bias:-0.8307541528036361\n",
      "loss:0.00898180875394732, weight:[ 4.22573694 -7.11777097], bias:-0.8334056908414433\n",
      "loss:0.008978716766490603, weight:[ 4.22847773 -7.12171535], bias:-0.8360562199547111\n",
      "loss:0.008975636160761063, weight:[ 4.23121273 -7.12564993], bias:-0.8387057436650718\n",
      "loss:0.008972566857453552, weight:[ 4.23394197 -7.12957477], bias:-0.8413542654717644\n",
      "loss:0.008969508777997315, weight:[ 4.23666547 -7.13348991], bias:-0.8440017888518283\n",
      "loss:0.008966461844547498, weight:[ 4.23938326 -7.13739538], bias:-0.8466483172602947\n",
      "loss:0.008963425979976783, weight:[ 4.24209536 -7.14129123], bias:-0.8492938541303757\n",
      "loss:0.008960401107867194, weight:[ 4.2448018  -7.14517749], bias:-0.8519384028736517\n",
      "loss:0.008957387152501885, weight:[ 4.24750259 -7.14905422], bias:-0.8545819668802564\n",
      "loss:0.008954384038857203, weight:[ 4.25019777 -7.15292144], bias:-0.8572245495190602\n",
      "loss:0.008951391692594731, weight:[ 4.25288735 -7.1567792 ], bias:-0.8598661541378516\n",
      "loss:0.008948410040053503, weight:[ 4.25557136 -7.16062754], bias:-0.8625067840635159\n",
      "loss:0.008945439008242274, weight:[ 4.25824983 -7.1644665 ], bias:-0.8651464426022131\n",
      "loss:0.008942478524832034, weight:[ 4.26092277 -7.16829612], bias:-0.867785133039553\n",
      "loss:0.008939528518148379, weight:[ 4.26359021 -7.17211643], bias:-0.870422858640769\n",
      "loss:0.008936588917164229, weight:[ 4.26625218 -7.17592748], bias:-0.8730596226508899\n",
      "loss:0.008933659651492482, weight:[ 4.26890868 -7.17972931], bias:-0.8756954282949095\n",
      "loss:0.00893074065137888, weight:[ 4.27155976 -7.18352194], bias:-0.8783302787779552\n",
      "loss:0.008927831847694858, weight:[ 4.27420542 -7.18730543], bias:-0.8809641772854536\n",
      "loss:0.008924933171930596, weight:[ 4.2768457 -7.1910798], bias:-0.8835971269832957\n",
      "loss:0.008922044556188067, weight:[ 4.27948061 -7.1948451 ], bias:-0.8862291310179996\n",
      "loss:0.008919165933174275, weight:[ 4.28211017 -7.19860137], bias:-0.8888601925168715\n",
      "loss:0.008916297236194498, weight:[ 4.28473442 -7.20234863], bias:-0.8914903145881651\n",
      "loss:0.008913438399145702, weight:[ 4.28735336 -7.20608693], bias:-0.8941195003212394\n",
      "loss:0.00891058935650991, weight:[ 4.28996702 -7.20981631], bias:-0.8967477527867153\n",
      "loss:0.00890775004334787, weight:[ 4.29257543 -7.2135368 ], bias:-0.8993750750366287\n",
      "loss:0.008904920395292542, weight:[ 4.29517859 -7.21724843], bias:-0.9020014701045854\n",
      "loss:0.008902100348542915, weight:[ 4.29777655 -7.22095124], bias:-0.9046269410059106\n",
      "loss:0.008899289839857794, weight:[ 4.30036931 -7.22464528], bias:-0.9072514907377995\n",
      "loss:0.008896488806549608, weight:[ 4.30295689 -7.22833057], bias:-0.9098751222794654\n",
      "loss:0.008893697186478398, weight:[ 4.30553933 -7.23200715], bias:-0.9124978385922863\n",
      "loss:0.008890914918045936, weight:[ 4.30811663 -7.23567505], bias:-0.9151196426199497\n",
      "loss:0.008888141940189687, weight:[ 4.31068882 -7.23933431], bias:-0.9177405372885968\n",
      "loss:0.00888537819237709, weight:[ 4.31325592 -7.24298497], bias:-0.9203605255069645\n",
      "loss:0.008882623614599834, weight:[ 4.31581795 -7.24662705], bias:-0.9229796101665256\n",
      "loss:0.00887987814736815, weight:[ 4.31837493 -7.2502606 ], bias:-0.9255977941416291\n",
      "loss:0.008877141731705238, weight:[ 4.32092688 -7.25388565], bias:-0.9282150802896371\n",
      "loss:0.008874414309141782, weight:[ 4.32347381 -7.25750223], bias:-0.9308314714510617\n",
      "loss:0.00887169582171044, weight:[ 4.32601576 -7.26111037], bias:-0.9334469704497003\n",
      "loss:0.008868986211940546, weight:[ 4.32855274 -7.26471011], bias:-0.9360615800927685\n",
      "loss:0.00886628542285272, weight:[ 4.33108476 -7.26830148], bias:-0.9386753031710335\n",
      "loss:0.008863593397953702, weight:[ 4.33361186 -7.27188452], bias:-0.9412881424589447\n",
      "loss:0.008860910081231146, weight:[ 4.33613404 -7.27545925], bias:-0.9439001007147629\n"
     ]
    }
   ],
   "source": [
    "lr = LogisticRegressionClassifier()\n",
    "lr.fit(X_train, y_train)"
   ]
  },
  {
   "cell_type": "code",
   "execution_count": 151,
   "metadata": {},
   "outputs": [
    {
     "data": {
      "text/plain": [
       "1.0"
      ]
     },
     "execution_count": 151,
     "metadata": {},
     "output_type": "execute_result"
    }
   ],
   "source": [
    "lr.score(X_test, y_test)"
   ]
  },
  {
   "cell_type": "code",
   "execution_count": 153,
   "metadata": {},
   "outputs": [
    {
     "data": {
      "text/plain": [
       "<matplotlib.legend.Legend at 0x254f27232e8>"
      ]
     },
     "execution_count": 153,
     "metadata": {},
     "output_type": "execute_result"
    },
    {
     "data": {
      "image/png": "[encoded data removed]",
      "text/plain": [
       "<Figure size 432x288 with 1 Axes>"
      ]
     },
     "metadata": {
      "needs_background": "light"
     },
     "output_type": "display_data"
    }
   ],
   "source": [
    "x = np.arange(4, 8)\n",
    "y_hat = -(lr.weights[0] * x + lr.biases) / lr.weights[1]\n",
    "plt.plot(x, y_hat)\n",
    "\n",
    "#\n",
    "plt.scatter(X[:50, 0], X[:50, 1],  label='0')\n",
    "plt.scatter(X[50:, 0], X[50:, 1], label='1')\n",
    "plt.legend()"
   ]
  },
  {
   "cell_type": "markdown",
   "metadata": {},
   "source": [
    "## Sklearn"
   ]
  },
  {
   "cell_type": "code",
   "execution_count": 154,
   "metadata": {},
   "outputs": [
    {
     "name": "stderr",
     "output_type": "stream",
     "text": [
      "F:\\Anaconda3\\lib\\importlib\\_bootstrap.py:219: RuntimeWarning: numpy.ufunc size changed, may indicate binary incompatibility. Expected 192 from C header, got 216 from PyObject\n",
      "  return f(*args, **kwds)\n"
     ]
    }
   ],
   "source": [
    "from sklearn.linear_model import LogisticRegression"
   ]
  },
  {
   "cell_type": "code",
   "execution_count": 155,
   "metadata": {},
   "outputs": [
    {
     "name": "stderr",
     "output_type": "stream",
     "text": [
      "F:\\Anaconda3\\lib\\site-packages\\sklearn\\linear_model\\logistic.py:433: FutureWarning: Default solver will be changed to 'lbfgs' in 0.22. Specify a solver to silence this warning.\n",
      "  FutureWarning)\n"
     ]
    },
    {
     "data": {
      "text/plain": [
       "0.9857142857142858"
      ]
     },
     "execution_count": 155,
     "metadata": {},
     "output_type": "execute_result"
    }
   ],
   "source": [
    "lr = LogisticRegression()\n",
    "lr.fit(X_train, y_train)\n",
    "lr.score(X_train, y_train)"
   ]
  },
  {
   "cell_type": "code",
   "execution_count": null,
   "metadata": {},
   "outputs": [],
   "source": []
  }
 ],
 "metadata": {
  "kernelspec": {
   "display_name": "Python 3",
   "language": "python",
   "name": "python3"
  },
  "language_info": {
   "codemirror_mode": {
    "name": "ipython",
    "version": 3
   },
   "file_extension": ".py",
   "mimetype": "text/x-python",
   "name": "python",
   "nbconvert_exporter": "python",
   "pygments_lexer": "ipython3",
   "version": "3.7.3"
  },
  "toc": {
   "base_numbering": 1,
   "nav_menu": {},
   "number_sections": true,
   "sideBar": true,
   "skip_h1_title": false,
   "title_cell": "Table of Contents",
   "title_sidebar": "Contents",
   "toc_cell": false,
   "toc_position": {},
   "toc_section_display": true,
   "toc_window_display": false
  }
 },
 "nbformat": 4,
 "nbformat_minor": 2
}
