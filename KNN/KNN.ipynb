{
 "cells": [
  {
   "cell_type": "code",
   "execution_count": 2,
   "metadata": {},
   "outputs": [],
   "source": [
    "import numpy as np\n",
    "import pandas as pd\n",
    "from sklearn.datasets import load_iris # iris数据集\n",
    "from sklearn.model_selection import train_test_split\n",
    "from sklearn.metrics import accuracy_score\n",
    "from sklearn.neighbors import KNeighborsClassifier\n",
    "from collections import Counter"
   ]
  },
  {
   "cell_type": "code",
   "execution_count": 29,
   "metadata": {},
   "outputs": [],
   "source": [
    "class KNearestNeighborsClassifier:\n",
    "    \"\"\"\n",
    "    k近邻\n",
    "    \"\"\"\n",
    "    class _Node:\n",
    "        \"\"\"\n",
    "        kd树节点\n",
    "        ]\"\"\"\n",
    "        def __init__(self, val, label, dim):\n",
    "            self.val = val # 实例\n",
    "            self.label = label # 标签\n",
    "            self.dim = dim # 切分坐标轴维度\n",
    "            self.parent = None # 父节点\n",
    "            self.left = None  # 左子节点\n",
    "            self.right = None # 右子节点\n",
    "            \n",
    "        def __str__(self):\n",
    "            return \"Node: %s\" % str(self.val)\n",
    "        \n",
    "    def __init__(self, K=1):\n",
    "        self._root = None\n",
    "        self.K = K\n",
    "        \n",
    "    def _build_kd_tree(self, X, y, k, depth=0):\n",
    "        \"\"\"\n",
    "        X: 输入\n",
    "        y: 类别\n",
    "        d: 数据集的维度\n",
    "        depath: 深度\n",
    "        \"\"\"\n",
    "        samples, _ = X.shape\n",
    "        if not samples:\n",
    "            return None\n",
    "        # 切分维度\n",
    "        split_dimension = depth % k\n",
    "        # 中位数\n",
    "        if samples == 1:\n",
    "            median = 0\n",
    "        else:\n",
    "            median = samples // 2\n",
    "            sorted_index = X[:,split_dimension].argsort()\n",
    "            X = X[sorted_index]\n",
    "            y = y[sorted_index]\n",
    "            \n",
    "        depth += 1\n",
    "        root = self._Node(X[median], y[median], split_dimension) # 根节点\n",
    "        root.left = self._build_kd_tree(X[:median], y[:median], k, depth) # 左子节点\n",
    "        if root.left:\n",
    "            root.left.parent = root\n",
    "        root.right = self._build_kd_tree(X[median+1:], y[median+1:], k, depth) # 右子节点\n",
    "        if root.right:\n",
    "            root.right.parent = root\n",
    "        return root\n",
    "    \n",
    "    def fit(self, X, y):\n",
    "        \"\"\"\n",
    "        训练拟合\n",
    "        \"\"\"\n",
    "        _, features = X.shape\n",
    "        self._root = self._build_kd_tree(X, y, features)\n",
    "        return self\n",
    "    \n",
    "    def _k_nearest_neighbors(self, x): \n",
    "        \"\"\"\n",
    "        搜索kd树\n",
    "        \"\"\"\n",
    "        node = self._root\n",
    "        distance = np.linalg.norm(node.val - x) # 求范数\n",
    "        candidate_nodes = [] # 候选节点\n",
    "        \n",
    "        k_min_distance = np.full((self.K,), distance) # 距离\n",
    "        k_nearest_neighbors = np.full((self.K,), node) # k个近邻点\n",
    "        flag = True\n",
    "        \n",
    "        def update(child, candidate_child):\n",
    "            nonlocal node, flag\n",
    "            if candidate_child:\n",
    "                dim_dis = abs(x[dim] - node.val[dim]) # 比较候选节点与目标节点区域相交\n",
    "                if dim_dis < k_min_distance.max():\n",
    "                    candidate_nodes.append(candidate_child)\n",
    "            if child:\n",
    "                node = child \n",
    "                distance = np.linalg.norm(node.val - x)\n",
    "                max_arg = k_min_distance.argmax() # 返回最大数的索引\n",
    "                if distance < k_min_distance[max_arg]:\n",
    "                    k_min_distance[max_arg] = distance\n",
    "                    k_nearest_neighbors[max_arg] = node\n",
    "            elif candidate_nodes:\n",
    "                node = candidate_nodes.pop()\n",
    "            else:\n",
    "                flag = False\n",
    "                    \n",
    "        while flag:\n",
    "            dim = node.dim\n",
    "            if x[dim] <= node.val[dim]: # 比较切分坐标轴对应的节点和目标点的大小\n",
    "                update(node.left, node.right)\n",
    "            else:\n",
    "                update(node.right, node.left)\n",
    "        return k_nearest_neighbors\n",
    "    \n",
    "    def predict(self, X):\n",
    "        \"\"\"\n",
    "        预测\n",
    "        \"\"\"\n",
    "        ret = []\n",
    "        for x in X:\n",
    "            k_nearest_neighbors = self._k_nearest_neighbors(x)\n",
    "            labels = [node.label for node in k_nearest_neighbors]\n",
    "            label_counter = Counter(labels)\n",
    "            label,_ = label_counter.most_common(1)[0]\n",
    "            ret.append(label)\n",
    "        return np.array(ret)"
   ]
  },
  {
   "cell_type": "code",
   "execution_count": 30,
   "metadata": {},
   "outputs": [
    {
     "data": {
      "text/plain": [
       "((150, 4), (150,))"
      ]
     },
     "execution_count": 30,
     "metadata": {},
     "output_type": "execute_result"
    }
   ],
   "source": [
    "iris = load_iris()\n",
    "X = iris['data']\n",
    "y = iris['target']\n",
    "X.shape, y.shape"
   ]
  },
  {
   "cell_type": "code",
   "execution_count": 34,
   "metadata": {},
   "outputs": [
    {
     "data": {
      "text/plain": [
       "array([1, 2, 0, 1, 0, 1, 2, 1, 0, 1, 1, 2, 1, 0, 0, 2, 1, 0, 0, 0, 2, 2,\n",
       "       2, 0, 1, 0, 1, 1, 1, 2, 1, 1, 2, 2, 2, 0, 2, 2])"
      ]
     },
     "execution_count": 34,
     "metadata": {},
     "output_type": "execute_result"
    }
   ],
   "source": [
    "X_train, X_test, y_train, y_test = train_test_split(X, y, random_state=10)\n",
    "knn1 = KNearestNeighborsClassifier(3)\n",
    "knn1.fit(X_train, y_train)\n",
    "y_pred = knn1.predict(X_test)\n",
    "y_t = knn1.predict(X_train)\n",
    "y_pred"
   ]
  },
  {
   "cell_type": "code",
   "execution_count": 35,
   "metadata": {},
   "outputs": [
    {
     "data": {
      "text/plain": [
       "0.9736842105263158"
      ]
     },
     "execution_count": 35,
     "metadata": {},
     "output_type": "execute_result"
    }
   ],
   "source": [
    "accuracy_score(y_test, y_pred)"
   ]
  },
  {
   "cell_type": "code",
   "execution_count": 36,
   "metadata": {},
   "outputs": [
    {
     "data": {
      "text/plain": [
       "0.9553571428571429"
      ]
     },
     "execution_count": 36,
     "metadata": {},
     "output_type": "execute_result"
    }
   ],
   "source": [
    "accuracy_score(y_train, y_t)"
   ]
  },
  {
   "cell_type": "code",
   "execution_count": 39,
   "metadata": {},
   "outputs": [
    {
     "data": {
      "text/plain": [
       "0.9736842105263158"
      ]
     },
     "execution_count": 39,
     "metadata": {},
     "output_type": "execute_result"
    }
   ],
   "source": [
    "knn2 = KNeighborsClassifier(n_neighbors=3).fit(X_train, y_train)\n",
    "y_t = knn2.predict(X_train)\n",
    "y_pred = knn2.predict(X_test)\n",
    "accuracy_score(y_test, y_pred)"
   ]
  },
  {
   "cell_type": "code",
   "execution_count": 40,
   "metadata": {},
   "outputs": [
    {
     "data": {
      "text/plain": [
       "0.9642857142857143"
      ]
     },
     "execution_count": 40,
     "metadata": {},
     "output_type": "execute_result"
    }
   ],
   "source": [
    "accuracy_score(y_train, y_t)"
   ]
  },
  {
   "cell_type": "code",
   "execution_count": null,
   "metadata": {},
   "outputs": [],
   "source": []
  }
 ],
 "metadata": {
  "kernelspec": {
   "display_name": "Python 3",
   "language": "python",
   "name": "python3"
  },
  "language_info": {
   "codemirror_mode": {
    "name": "ipython",
    "version": 3
   },
   "file_extension": ".py",
   "mimetype": "text/x-python",
   "name": "python",
   "nbconvert_exporter": "python",
   "pygments_lexer": "ipython3",
   "version": "3.7.3"
  }
 },
 "nbformat": 4,
 "nbformat_minor": 2
}
